{
  "nbformat": 4,
  "nbformat_minor": 0,
  "metadata": {
    "colab": {
      "provenance": []
    },
    "kernelspec": {
      "name": "python3",
      "display_name": "Python 3"
    },
    "language_info": {
      "name": "python"
    }
  },
  "cells": [
    {
      "cell_type": "markdown",
      "source": [
        "**DSTT Assignment No: 2**\n",
        "\n",
        "Submitted by : Apoorvamegh Anil Chechar\n",
        "\n",
        "Roll no      : 24-27-04\n",
        "\n",
        "Course       : MTech DATA SCIENCE 24-26"
      ],
      "metadata": {
        "id": "SG1uPQjDuAYp"
      }
    },
    {
      "cell_type": "code",
      "source": [
        "import numpy as np\n",
        "import pandas as pd\n",
        "import matplotlib as plt\n",
        "import numpy.random as npr"
      ],
      "metadata": {
        "id": "mwtNorcht8d2"
      },
      "execution_count": 59,
      "outputs": []
    },
    {
      "cell_type": "code",
      "source": [
        "'''Q1 a) Create a variable named var1 that stores an array of numbers from 0 to 30, inclusive. Print var1 and its shape  Hint : arange'''\n",
        "\n",
        "var1 = np.arange(0,31) # 0 and 30 Inclusive\n",
        "print(var1,var1.shape)"
      ],
      "metadata": {
        "colab": {
          "base_uri": "https://localhost:8080/",
          "height": 0
        },
        "id": "RTrj7u6JudE7",
        "outputId": "01e50771-5869-467e-a2fc-e1f40f98e78c"
      },
      "execution_count": 29,
      "outputs": [
        {
          "output_type": "stream",
          "name": "stdout",
          "text": [
            "[ 0  1  2  3  4  5  6  7  8  9 10 11 12 13 14 15 16 17 18 19 20 21 22 23\n",
            " 24 25 26 27 28 29 30] (31,)\n"
          ]
        }
      ]
    },
    {
      "cell_type": "code",
      "source": [
        "'''Q1 b) Change var2 to a validly-shaped two-dimensional matrix and store it in a new variable called var2. Print var2 and its shape. Hint: Use the reshape function'''\n",
        "\n",
        "var1 = np.arange(0, 31)\n",
        "print(var1.shape)\n",
        "var1 = np.append(var1, 0)\n",
        "var2 = var1.reshape(4, 8)\n",
        "print(var2)\n",
        "print(var2.shape)"
      ],
      "metadata": {
        "colab": {
          "base_uri": "https://localhost:8080/",
          "height": 0
        },
        "id": "yZp9uZvtugvo",
        "outputId": "b90364ea-a4f7-485b-e795-66c7043da30f"
      },
      "execution_count": 30,
      "outputs": [
        {
          "output_type": "stream",
          "name": "stdout",
          "text": [
            "(31,)\n",
            "[[ 0  1  2  3  4  5  6  7]\n",
            " [ 8  9 10 11 12 13 14 15]\n",
            " [16 17 18 19 20 21 22 23]\n",
            " [24 25 26 27 28 29 30  0]]\n",
            "(4, 8)\n"
          ]
        }
      ]
    },
    {
      "cell_type": "code",
      "source": [
        "'''Q1. c) Create a third variable, var3 that reshapes it into a valid three-dimensional shape. Print var3 and its shape.'''\n",
        "\n",
        "var3 = var1.reshape((2,4,4))\n",
        "print(var3,var3.shape)"
      ],
      "metadata": {
        "colab": {
          "base_uri": "https://localhost:8080/",
          "height": 0
        },
        "id": "PNT56J_uu2bn",
        "outputId": "296980df-747f-4e7e-83db-62dcfac2c4ed"
      },
      "execution_count": 33,
      "outputs": [
        {
          "output_type": "stream",
          "name": "stdout",
          "text": [
            "[[[ 0  1  2  3]\n",
            "  [ 4  5  6  7]\n",
            "  [-1  9 10 11]\n",
            "  [12 13 14 15]]\n",
            "\n",
            " [[16 17 18 19]\n",
            "  [20 21 22 23]\n",
            "  [24 25 26 27]\n",
            "  [28 29 30  0]]] (2, 4, 4)\n"
          ]
        }
      ]
    },
    {
      "cell_type": "code",
      "source": [
        "'''Q1. d) Use two-dimensional array indexing to set the first value in the second row of var2 to -1. Now look at var1 and var3. Did they change?\n",
        "Explain what’s going on. (Hint: does reshape return a view or a copy?)'''\n",
        "var2[1][0] = -1\n",
        "print(var1)\n",
        "print(\" \")\n",
        "print(var3)"
      ],
      "metadata": {
        "colab": {
          "base_uri": "https://localhost:8080/",
          "height": 0
        },
        "id": "Ly-_CoeBvq2Z",
        "outputId": "e22ef757-55a6-489b-927c-c36b0668245d"
      },
      "execution_count": 38,
      "outputs": [
        {
          "output_type": "stream",
          "name": "stdout",
          "text": [
            "[ 0  1  2  3  4  5  6  7 -1  9 10 11 12 13 14 15 16 17 18 19 20 21 22 23\n",
            " 24 25 26 27 28 29 30  0]\n",
            " \n",
            "[[[ 0  1  2  3]\n",
            "  [ 4  5  6  7]\n",
            "  [-1  9 10 11]\n",
            "  [12 13 14 15]]\n",
            "\n",
            " [[16 17 18 19]\n",
            "  [20 21 22 23]\n",
            "  [24 25 26 27]\n",
            "  [28 29 30  0]]]\n"
          ]
        }
      ]
    },
    {
      "cell_type": "code",
      "source": [],
      "metadata": {
        "id": "7gSnbXDhz3eC"
      },
      "execution_count": null,
      "outputs": []
    },
    {
      "cell_type": "markdown",
      "source": [
        "The var1 and var3 have also changed because when we reshape var1 we are only getting a different view of the same array var1, to create seperately arrays var 2 and var3 during reshape we need to create it as copy"
      ],
      "metadata": {
        "id": "7iduo4r-0EAe"
      }
    },
    {
      "cell_type": "code",
      "source": [
        "'''Q1. e) Another thing that comes up a lot with array shapes is thinking about how to aggregate over specific dimensions. Figure out how the\n",
        "NumPy sum function works (and the axis argument in particular) and do the following:\n",
        "1. Sum var3 over its second dimension and print the result.\n",
        "2. Sum var3 over its third dimension and print the result.\n",
        "3. Sum var3 over both its first and third dimensions and print the result.'''\n",
        "np.sum(var3,axis=1) # Note to self: Dimension are in sequence k=0,j=1,i=2"
      ],
      "metadata": {
        "colab": {
          "base_uri": "https://localhost:8080/",
          "height": 0
        },
        "id": "RndvvHiJ0JoM",
        "outputId": "5c25eae8-a841-41a0-e834-53120fc7e3d0"
      },
      "execution_count": 54,
      "outputs": [
        {
          "output_type": "execute_result",
          "data": {
            "text/plain": [
              "array([[15, 28, 32, 36],\n",
              "       [88, 92, 96, 69]])"
            ]
          },
          "metadata": {},
          "execution_count": 54
        }
      ]
    },
    {
      "cell_type": "code",
      "source": [
        "np.sum(var3,axis=2)"
      ],
      "metadata": {
        "colab": {
          "base_uri": "https://localhost:8080/",
          "height": 0
        },
        "id": "pxMC_6c93oW7",
        "outputId": "595f5dfa-fd6d-408d-c7ef-7469be5d0a6a"
      },
      "execution_count": 55,
      "outputs": [
        {
          "output_type": "execute_result",
          "data": {
            "text/plain": [
              "array([[  6,  22,  29,  54],\n",
              "       [ 70,  86, 102,  87]])"
            ]
          },
          "metadata": {},
          "execution_count": 55
        }
      ]
    },
    {
      "cell_type": "code",
      "source": [
        "np.sum(var3,axis = (0,2))"
      ],
      "metadata": {
        "colab": {
          "base_uri": "https://localhost:8080/",
          "height": 0
        },
        "id": "-wFFHYoa4rcF",
        "outputId": "96c9cd26-5ee1-4aca-b7a4-dacac3337d3f"
      },
      "execution_count": 56,
      "outputs": [
        {
          "output_type": "execute_result",
          "data": {
            "text/plain": [
              "array([ 76, 108, 131, 141])"
            ]
          },
          "metadata": {},
          "execution_count": 56
        }
      ]
    },
    {
      "cell_type": "code",
      "source": [
        "'''Q1. f) Write code to do the following:\n",
        "1. Slice out the second row of var2 and print it.\n",
        "2. Slice out the last column of var2 using the -1 notation and print it.\n",
        "3. Slice out the top right 2 × 2 submatrix of var2 and print it.\n",
        "'''\n",
        "print(var2[1,:])\n",
        "print(var2[-1,:])\n",
        "print(var2[:2,-2:])"
      ],
      "metadata": {
        "colab": {
          "base_uri": "https://localhost:8080/",
          "height": 0
        },
        "id": "mHsjLjXE455o",
        "outputId": "cae4c930-eac1-44bd-c97b-a26daa6ad98f"
      },
      "execution_count": 58,
      "outputs": [
        {
          "output_type": "stream",
          "name": "stdout",
          "text": [
            "[-1  9 10 11 12 13 14 15]\n",
            "[24 25 26 27 28 29 30  0]\n",
            "[[ 6  7]\n",
            " [14 15]]\n"
          ]
        }
      ]
    },
    {
      "cell_type": "code",
      "source": [
        "'''Q2. a) The most basic kind of broadcast is with a scalar, in which you can perform a binary operation (e.g., add, multiply, ...) on an array and a\n",
        "scalar, the effect is to perform that operation with the scalar for every element of the array. To try this out, create a vector 1, 2, . . . , 10 by adding\n",
        "1 to the result of the arange function.\n",
        "'''\n",
        "vector = np.arange(1,11)\n",
        "vector = vector+1\n",
        "print(vector)"
      ],
      "metadata": {
        "colab": {
          "base_uri": "https://localhost:8080/",
          "height": 0
        },
        "id": "w7ajKqKs5bwd",
        "outputId": "c76f4fed-1252-4b9c-fa64-ae82b265d09d"
      },
      "execution_count": 62,
      "outputs": [
        {
          "output_type": "stream",
          "name": "stdout",
          "text": [
            "[ 2  3  4  5  6  7  8  9 10 11]\n"
          ]
        }
      ]
    },
    {
      "cell_type": "code",
      "source": [
        "'''Q2. b) Now, create a 10 × 10 matrix A in which Ai j = i + j. You’ll be able to do this using the vector you just created, and adding it to a reshaped version of itself.\n",
        "'''\n",
        "matA = vector + vector.reshape(10, 1)\n",
        "print(matA)"
      ],
      "metadata": {
        "colab": {
          "base_uri": "https://localhost:8080/",
          "height": 0
        },
        "id": "KOqiHX1Q7FHl",
        "outputId": "669ab231-916f-4568-9774-6f3e865597cc"
      },
      "execution_count": 72,
      "outputs": [
        {
          "output_type": "stream",
          "name": "stdout",
          "text": [
            "[[ 4  5  6  7  8  9 10 11 12 13]\n",
            " [ 5  6  7  8  9 10 11 12 13 14]\n",
            " [ 6  7  8  9 10 11 12 13 14 15]\n",
            " [ 7  8  9 10 11 12 13 14 15 16]\n",
            " [ 8  9 10 11 12 13 14 15 16 17]\n",
            " [ 9 10 11 12 13 14 15 16 17 18]\n",
            " [10 11 12 13 14 15 16 17 18 19]\n",
            " [11 12 13 14 15 16 17 18 19 20]\n",
            " [12 13 14 15 16 17 18 19 20 21]\n",
            " [13 14 15 16 17 18 19 20 21 22]]\n"
          ]
        }
      ]
    },
    {
      "cell_type": "code",
      "source": [
        "'''Q2.\n",
        "c) A very common use of broadcasting is to standardize data, i.e., to make it have zero mean and unit variance. First, create a fake “data set” with 50 examples,\n",
        "each with five dimensions.\n",
        "import numpy.random as npr\n",
        "data = np.exp(npr.randn ( 50 , 5 ) )\n",
        "\n",
        "d) You don’t worry too much about what this code is doing at this stage of the course, but for completeness: it imports the NumPy random number generation library, then generates a 50 × 5 matrix of standard normal random variates and exponentiates them. The effect of this is to have a pretend\n",
        "data set of 50 independent and identically-distributed vectors from a log-normaldistribution.\n",
        "'''\n",
        "import numpy.random as npr\n",
        "data = np.exp(npr.randn ( 50 , 5 ) )\n",
        "print(data)\n"
      ],
      "metadata": {
        "colab": {
          "base_uri": "https://localhost:8080/",
          "height": 0
        },
        "id": "C4YfqCzc912P",
        "outputId": "70a5a9b5-fa08-4e82-c122-f6898b416340"
      },
      "execution_count": 74,
      "outputs": [
        {
          "output_type": "stream",
          "name": "stdout",
          "text": [
            "[[ 2.30057403  2.82584376  4.27343294  2.31842516  1.53619697]\n",
            " [ 0.15265465  0.38037747  3.1552367   3.15985365  0.3053915 ]\n",
            " [ 1.32139916  0.754885    0.81665769  0.70351799  4.9333233 ]\n",
            " [ 0.40725589  0.48069736 10.61191072  1.31462515  1.34458329]\n",
            " [ 0.40677435  1.38917411  2.50735162  0.28576877  3.21275598]\n",
            " [ 7.20484107  3.76792761  0.13945852  0.31259622  4.8346214 ]\n",
            " [ 0.74628315  0.24801468  0.46817373  0.73776576  0.95483591]\n",
            " [ 1.61537634  0.25532205  0.44081106  0.39111944  0.40947148]\n",
            " [ 0.58255627  0.16509397  1.54997103  2.4395153   2.11486571]\n",
            " [ 0.4172813   0.2590289   0.12800552  0.68384669  0.72407638]\n",
            " [ 1.91214606 20.56142887 15.87326059  0.35700597  1.79573993]\n",
            " [ 0.41944802  0.77478406  0.50403076  1.39978654  1.43653111]\n",
            " [ 2.23493824  0.26278747  0.68230502  7.61008831  0.64483955]\n",
            " [ 0.52633391  3.09295384  2.65941928  0.58636944  1.90519424]\n",
            " [12.69818206  0.48141077  3.14888749  5.07050767  4.96281846]\n",
            " [ 1.63869626  0.30338411  1.53275462  0.23700051  0.9712697 ]\n",
            " [ 1.29623368  1.19174061  0.69714066  0.5161272   1.11145845]\n",
            " [ 0.36130405  1.10574748 11.3770286   3.39912711  0.26776676]\n",
            " [ 2.00872343  1.00913476  0.90158404  0.07034902  1.47493608]\n",
            " [ 1.50877197  1.4914118   1.60087635  0.68294771  1.00209675]\n",
            " [ 2.05909644  8.37671238  2.72029441  2.34902637  1.28091773]\n",
            " [ 0.7145495   0.38546472  0.96330661  0.55996146  0.29652452]\n",
            " [ 3.15316198  0.58428775  0.35999268  0.78002973  1.79655252]\n",
            " [ 2.29823063  0.39920515  1.40633697  2.69017124  2.1964909 ]\n",
            " [ 0.57606109  1.9827611   1.48920593  2.53700638  0.34877596]\n",
            " [ 0.51845889  0.23124387  1.40076051  3.29893822  1.15267296]\n",
            " [ 2.14897286  0.94469752  1.70844086  1.0396591   0.76898269]\n",
            " [ 1.64868255  2.91121285  1.70319741  1.24871345  2.38472138]\n",
            " [ 1.04422952  5.77063898  0.97692696  1.16403896  0.92230519]\n",
            " [ 2.23008391  1.76537532  0.69407496  0.22118339  0.20565477]\n",
            " [ 2.56235175  5.74299055  0.20861085  1.08292953  0.63756264]\n",
            " [ 0.34933105  0.688895    0.69933232  0.21399827  0.90560407]\n",
            " [ 1.90100947  2.26591647  0.59175494  0.56704367  1.6808876 ]\n",
            " [ 0.82388168  0.93848858  2.48275904  2.17569717  6.82028168]\n",
            " [ 0.31696081  0.35175254  0.20220851  0.75605335  1.38210019]\n",
            " [ 0.20950567  0.83389278  1.43049217  0.7807948   0.34483636]\n",
            " [ 0.67934411  3.70572246  4.47475103  0.12948573  0.26294608]\n",
            " [ 1.08638307  0.21593312  9.72157127  0.84274865  2.08078967]\n",
            " [ 0.57664834  2.28641666  0.83807567  0.16367212  0.31344055]\n",
            " [ 0.80447434  5.56427495  4.90054331  8.57971598  1.18256206]\n",
            " [ 0.78830779  1.38417827  4.66200992  1.66688075  3.624075  ]\n",
            " [ 1.10077406  0.30131678  0.60451698  1.16174922  0.53363826]\n",
            " [ 1.42728124  3.00652167  0.96155461  0.6075666   0.26457771]\n",
            " [ 8.72405322  0.45439154  1.15125083  5.35371252  0.19832831]\n",
            " [ 1.55768917  3.03493314  4.42405223  0.52681499  8.12768089]\n",
            " [ 1.00332282  0.34401792  0.56478025  2.08151421  1.20033806]\n",
            " [ 4.44711076  2.43201494  0.6796604   0.70689894  0.38222725]\n",
            " [ 6.81512042  4.1397386   1.75968146  1.6694502   0.95439451]\n",
            " [ 2.08562439  3.21875272  1.56065722  0.34022248  0.6990142 ]\n",
            " [ 4.62959122  2.66940126  0.25762865  2.19392793  0.61747662]]\n"
          ]
        }
      ]
    },
    {
      "cell_type": "code",
      "source": [
        "'''Q2. e) Now, compute the mean and standard deviation of each column. This should result in two vectors of length 5. You’ll need to think a little bit about how to use\n",
        "the axis argument to mean and std. Store these vectors into variables and print both of them.\n",
        "'''\n",
        "mean = np.mean(data, axis=0) #For my understanding axis are accessed in order here j=column and then i=row\n",
        "std = np.std(data, axis=0)\n",
        "print(\"Mean of each column:\")\n",
        "print(mean)\n",
        "print(\"Standard deviation of each column:\")\n",
        "print(std)\n"
      ],
      "metadata": {
        "colab": {
          "base_uri": "https://localhost:8080/",
          "height": 0
        },
        "id": "pHOMSo6aG5Rp",
        "outputId": "fe80f949-d735-478b-ca3f-9f2eef5275e7"
      },
      "execution_count": 78,
      "outputs": [
        {
          "output_type": "stream",
          "name": "stdout",
          "text": [
            "Mean of each column:\n",
            "[1.96080133 2.15464597 2.37333452 1.59531898 1.59018267]\n",
            "Standard deviation of each column:\n",
            "[2.34538192 3.17596572 3.14602062 1.78255345 1.68035691]\n"
          ]
        }
      ]
    },
    {
      "cell_type": "code",
      "source": [
        "'''Q2. f) Now standardize the data matrix by 1) subtracting the mean off of each column,and 2) dividing each column by its standard deviation. Do this via broadcasting, and store the result in a matrix called normalized. To verify that you successfully did it, compute the mean and standard deviation of the columns of normalized and print them out.\n",
        "'''\n",
        "normalized = ((data - mean) / std)\n",
        "normean = np.mean(normalized, axis=0)\n",
        "norstd = np.std(normalized, axis=0)\n",
        "print(\"Normalized data mean:\")\n",
        "print(normean)\n",
        "print(\"Normalized data standard deviation:\")\n",
        "print(norstd)"
      ],
      "metadata": {
        "colab": {
          "base_uri": "https://localhost:8080/",
          "height": 0
        },
        "id": "Q0Wfh4mNHr9Y",
        "outputId": "f92d28c5-7fda-4804-b94f-c2552f680756"
      },
      "execution_count": 81,
      "outputs": [
        {
          "output_type": "stream",
          "name": "stdout",
          "text": [
            "Normalized data mean:\n",
            "[-1.33226763e-16  1.26010313e-16 -1.44328993e-16 -2.50910404e-16\n",
            " -9.76996262e-17]\n",
            "Normalized data standard deviation:\n",
            "[1. 1. 1. 1. 1.]\n"
          ]
        }
      ]
    },
    {
      "cell_type": "code",
      "source": [
        "''' Q3a) A Vandermonde matrix is a matrix generated from a vector in which each column of the matrix is an integer power starting from zero. So, if I have a column vector\n",
        "[x_1, x_2, ..., x_N]^T, then the associated (square) Vandermonde matrix would be Use what you learned about broadcasting in the previous problem to write a\n",
        "function that will produce a Vandermonde matrix for a vector [1, 2, ..., N]^T for any N. Do it without using a loop. Here's a stub to get you started:\n",
        "def vandermonde(N):\n",
        "    vec = np.arange(N) + 1\n",
        "    # write your code here.\n",
        "Use your function for N = 12, store it in variable named vander, and print the result.\n",
        "'''\n",
        "import numpy.linalg as la\n",
        "def vandermonde(n):\n",
        "    vec = np.arange(n) + 1\n",
        "    return vec.reshape(n,1)**np.arange(n)\n",
        "\n",
        "N = 12\n",
        "vander = vandermonde(N)\n",
        "print(\"Vandermonde matrix:\")\n",
        "print(vander)"
      ],
      "metadata": {
        "colab": {
          "base_uri": "https://localhost:8080/",
          "height": 0
        },
        "id": "6mjg6BpOI3Rc",
        "outputId": "2138de66-4bfc-4125-870c-fb68a7a46a2a"
      },
      "execution_count": 83,
      "outputs": [
        {
          "output_type": "stream",
          "name": "stdout",
          "text": [
            "Vandermonde matrix:\n",
            "[[           1            1            1            1            1\n",
            "             1            1            1            1            1\n",
            "             1            1]\n",
            " [           1            2            4            8           16\n",
            "            32           64          128          256          512\n",
            "          1024         2048]\n",
            " [           1            3            9           27           81\n",
            "           243          729         2187         6561        19683\n",
            "         59049       177147]\n",
            " [           1            4           16           64          256\n",
            "          1024         4096        16384        65536       262144\n",
            "       1048576      4194304]\n",
            " [           1            5           25          125          625\n",
            "          3125        15625        78125       390625      1953125\n",
            "       9765625     48828125]\n",
            " [           1            6           36          216         1296\n",
            "          7776        46656       279936      1679616     10077696\n",
            "      60466176    362797056]\n",
            " [           1            7           49          343         2401\n",
            "         16807       117649       823543      5764801     40353607\n",
            "     282475249   1977326743]\n",
            " [           1            8           64          512         4096\n",
            "         32768       262144      2097152     16777216    134217728\n",
            "    1073741824   8589934592]\n",
            " [           1            9           81          729         6561\n",
            "         59049       531441      4782969     43046721    387420489\n",
            "    3486784401  31381059609]\n",
            " [           1           10          100         1000        10000\n",
            "        100000      1000000     10000000    100000000   1000000000\n",
            "   10000000000 100000000000]\n",
            " [           1           11          121         1331        14641\n",
            "        161051      1771561     19487171    214358881   2357947691\n",
            "   25937424601 285311670611]\n",
            " [           1           12          144         1728        20736\n",
            "        248832      2985984     35831808    429981696   5159780352\n",
            "   61917364224 743008370688]]\n"
          ]
        }
      ]
    },
    {
      "cell_type": "code",
      "source": [
        "''' Q3 b) Now, let’s make a pretend linear system problem with this matrix. Create a vector of all ones, of length 12 and call it x. Perform a matrix-vector multiplication of\n",
        "vander with the vector you just created and store that in a new vector and call it b.Print the vector b.\n",
        "'''\n",
        "x = np.ones(12)\n",
        "print(x)\n",
        "b = np.matmul(vander, x)\n",
        "print(\"Resultant Vector b is:\")\n",
        "print(b)"
      ],
      "metadata": {
        "colab": {
          "base_uri": "https://localhost:8080/",
          "height": 0
        },
        "id": "8agOEC44MIf7",
        "outputId": "07af802f-3d82-4bff-e2b3-6fee0df6669f"
      },
      "execution_count": 86,
      "outputs": [
        {
          "output_type": "stream",
          "name": "stdout",
          "text": [
            "[1. 1. 1. 1. 1. 1. 1. 1. 1. 1. 1. 1.]\n",
            "Resultant Vector b is:\n",
            "[1.20000000e+01 4.09500000e+03 2.65720000e+05 5.59240500e+06\n",
            " 6.10351560e+07 4.35356467e+08 2.30688120e+09 9.81706810e+09\n",
            " 3.53036921e+10 1.11111111e+11 3.13842838e+11 8.10554586e+11]\n"
          ]
        }
      ]
    },
    {
      "cell_type": "code",
      "source": [
        "'''Q3. c) First, solve the linear system the naïve way, pretending like you don’t know x. Import numpy.linalg, invert V and multiply it by b. Print out your result. What\n",
        "should you get for your answer? If the answer is different than what you expected, write a sentence about that difference.\n",
        "'''\n",
        "inv_vander = la.inv(vander)\n",
        "naive = np.matmul(inv_vander, b)\n",
        "print(\"Solution using matrix inversion:\")\n",
        "print(naive)"
      ],
      "metadata": {
        "colab": {
          "base_uri": "https://localhost:8080/",
          "height": 0
        },
        "id": "taQiq6P6N2Kv",
        "outputId": "e8700cf7-b37f-47f3-959b-2bddbff5684a"
      },
      "execution_count": 87,
      "outputs": [
        {
          "output_type": "stream",
          "name": "stdout",
          "text": [
            "Solution using matrix inversion:\n",
            "[-12.26953125   5.90625     15.421875    -6.03515625   2.05859375\n",
            "   0.92675781   1.00244141   1.00010681   0.99997711   1.00000131\n",
            "   0.99999996   1.        ]\n"
          ]
        }
      ]
    },
    {
      "cell_type": "markdown",
      "source": [
        "Expected result of all the elements according to linear algebra should have been close to one which is X original, but some of the values are way distinct from the expected aray of One's."
      ],
      "metadata": {
        "id": "axlUHSR5OvpR"
      }
    },
    {
      "cell_type": "code",
      "source": [
        "''' Q3. d) Now, solve the same linear system using solve. Print out the result. Does it seem\n",
        "more or less in line with what you’d expect?\n",
        "'''\n",
        "solve = la.solve(vander, b)\n",
        "print(\"Solution using solve is:\")\n",
        "print(solve)"
      ],
      "metadata": {
        "colab": {
          "base_uri": "https://localhost:8080/",
          "height": 0
        },
        "id": "51EnBSKvPLVv",
        "outputId": "880bd458-a624-4cac-d39f-dff0dcaf8fb7"
      },
      "execution_count": 89,
      "outputs": [
        {
          "output_type": "stream",
          "name": "stdout",
          "text": [
            "Solution using solve is:\n",
            "[0.98080503 1.05139768 0.94513807 1.03151945 0.98899166 1.00248816\n",
            " 0.99962407 1.0000384  0.99999737 1.00000012 1.         1.        ]\n"
          ]
        }
      ]
    },
    {
      "cell_type": "markdown",
      "source": [
        "This result contains array of value close to 1 that is it is clsoe to the original data of X of one's. Which indicates it has solved as we have expected it to do."
      ],
      "metadata": {
        "id": "0RvKZeysPoPZ"
      }
    },
    {
      "cell_type": "code",
      "source": [],
      "metadata": {
        "id": "fCM_jKfNQfpB"
      },
      "execution_count": null,
      "outputs": []
    }
  ]
}