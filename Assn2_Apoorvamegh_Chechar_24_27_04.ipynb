{
  "nbformat": 4,
  "nbformat_minor": 0,
  "metadata": {
    "colab": {
      "provenance": []
    },
    "kernelspec": {
      "name": "python3",
      "display_name": "Python 3"
    },
    "language_info": {
      "name": "python"
    }
  },
  "cells": [
    {
      "cell_type": "markdown",
      "source": [
        "**DSTT Assignment No: 2**\n",
        "\n",
        "Submitted by : Apoorvamegh Anil Chechar\n",
        "\n",
        "Roll no      : 24-27-04\n",
        "\n",
        "Course       : MTech DATA SCIENCE 24-26"
      ],
      "metadata": {
        "id": "SG1uPQjDuAYp"
      }
    },
    {
      "cell_type": "code",
      "source": [
        "import numpy as np\n",
        "import pandas as pd\n",
        "import matplotlib as plt\n",
        "import numpy.random as npr"
      ],
      "metadata": {
        "id": "mwtNorcht8d2"
      },
      "execution_count": 90,
      "outputs": []
    },
    {
      "cell_type": "markdown",
      "source": [
        "Q1 a) Create a variable named var1 that stores an array of numbers from 0 to 30, inclusive. Print var1 and its shape  Hint : arange\n"
      ],
      "metadata": {
        "id": "siUqfL96UmRv"
      }
    },
    {
      "cell_type": "code",
      "source": [
        "\n",
        "var1 = np.arange(0,31) # 0 and 30 Inclusive\n",
        "print(var1,var1.shape)"
      ],
      "metadata": {
        "colab": {
          "base_uri": "https://localhost:8080/",
          "height": 0
        },
        "id": "RTrj7u6JudE7",
        "outputId": "45aa80db-856a-4d28-a8e0-7a39f4808bf1"
      },
      "execution_count": 91,
      "outputs": [
        {
          "output_type": "stream",
          "name": "stdout",
          "text": [
            "[ 0  1  2  3  4  5  6  7  8  9 10 11 12 13 14 15 16 17 18 19 20 21 22 23\n",
            " 24 25 26 27 28 29 30] (31,)\n"
          ]
        }
      ]
    },
    {
      "cell_type": "markdown",
      "source": [
        "Q1 b) Change var2 to a validly-shaped two-dimensional matrix and store it in a new variable called var2. Print var2 and its shape. Hint: Use the reshape function\n"
      ],
      "metadata": {
        "id": "Z9mTo2G8UtyD"
      }
    },
    {
      "cell_type": "code",
      "source": [
        "\n",
        "var1 = np.arange(0, 31)\n",
        "print(var1.shape)\n",
        "var1 = np.append(var1, 0)\n",
        "var2 = var1.reshape(4, 8)\n",
        "print(var2)\n",
        "print(var2.shape)"
      ],
      "metadata": {
        "colab": {
          "base_uri": "https://localhost:8080/",
          "height": 0
        },
        "id": "yZp9uZvtugvo",
        "outputId": "2febc1b0-457e-4b11-fa08-4d059dc26b08"
      },
      "execution_count": 92,
      "outputs": [
        {
          "output_type": "stream",
          "name": "stdout",
          "text": [
            "(31,)\n",
            "[[ 0  1  2  3  4  5  6  7]\n",
            " [ 8  9 10 11 12 13 14 15]\n",
            " [16 17 18 19 20 21 22 23]\n",
            " [24 25 26 27 28 29 30  0]]\n",
            "(4, 8)\n"
          ]
        }
      ]
    },
    {
      "cell_type": "markdown",
      "source": [
        "Q1. c) Create a third variable, var3 that reshapes it into a valid three-dimensional shape. Print var3 and its shape.\n"
      ],
      "metadata": {
        "id": "KMyAsPARUzsN"
      }
    },
    {
      "cell_type": "code",
      "source": [
        "\n",
        "var3 = var1.reshape((2,4,4))\n",
        "print(var3,var3.shape)"
      ],
      "metadata": {
        "colab": {
          "base_uri": "https://localhost:8080/",
          "height": 0
        },
        "id": "PNT56J_uu2bn",
        "outputId": "87506a5d-ac65-4f9e-9363-74b4358c86fd"
      },
      "execution_count": 93,
      "outputs": [
        {
          "output_type": "stream",
          "name": "stdout",
          "text": [
            "[[[ 0  1  2  3]\n",
            "  [ 4  5  6  7]\n",
            "  [ 8  9 10 11]\n",
            "  [12 13 14 15]]\n",
            "\n",
            " [[16 17 18 19]\n",
            "  [20 21 22 23]\n",
            "  [24 25 26 27]\n",
            "  [28 29 30  0]]] (2, 4, 4)\n"
          ]
        }
      ]
    },
    {
      "cell_type": "markdown",
      "source": [
        "Q1. d) Use two-dimensional array indexing to set the first value in the second row of var2 to -1. Now look at var1 and var3. Did they change?\n",
        "Explain what’s going on. (Hint: does reshape return a view or a copy?)\n"
      ],
      "metadata": {
        "id": "G7mKeI8SU4lw"
      }
    },
    {
      "cell_type": "code",
      "source": [
        "\n",
        "var2[1][0] = -1\n",
        "print(var1)\n",
        "print(\" \")\n",
        "print(var3)"
      ],
      "metadata": {
        "colab": {
          "base_uri": "https://localhost:8080/",
          "height": 0
        },
        "id": "Ly-_CoeBvq2Z",
        "outputId": "106b22be-c965-4349-9841-e991eeb415b1"
      },
      "execution_count": 94,
      "outputs": [
        {
          "output_type": "stream",
          "name": "stdout",
          "text": [
            "[ 0  1  2  3  4  5  6  7 -1  9 10 11 12 13 14 15 16 17 18 19 20 21 22 23\n",
            " 24 25 26 27 28 29 30  0]\n",
            " \n",
            "[[[ 0  1  2  3]\n",
            "  [ 4  5  6  7]\n",
            "  [-1  9 10 11]\n",
            "  [12 13 14 15]]\n",
            "\n",
            " [[16 17 18 19]\n",
            "  [20 21 22 23]\n",
            "  [24 25 26 27]\n",
            "  [28 29 30  0]]]\n"
          ]
        }
      ]
    },
    {
      "cell_type": "markdown",
      "source": [
        "The var1 and var3 have also changed because when we reshape var1 we are only getting a different view of the same array var1, to create seperately arrays var 2 and var3 during reshape we need to create it as copy"
      ],
      "metadata": {
        "id": "7iduo4r-0EAe"
      }
    },
    {
      "cell_type": "markdown",
      "source": [
        "Q1. e) Another thing that comes up a lot with array shapes is thinking about how to aggregate over specific dimensions. Figure out how the\n",
        "NumPy sum function works (and the axis argument in particular) and do the following:\n",
        "1. Sum var3 over its second dimension and print the result.\n",
        "2. Sum var3 over its third dimension and print the result.\n",
        "3. Sum var3 over both its first and third dimensions and print the result.\n"
      ],
      "metadata": {
        "id": "amjAc7OcU_79"
      }
    },
    {
      "cell_type": "code",
      "source": [
        "\n",
        "np.sum(var3,axis=1) # Note to self: Dimension are in sequence k=0,j=1,i=2"
      ],
      "metadata": {
        "colab": {
          "base_uri": "https://localhost:8080/",
          "height": 0
        },
        "id": "RndvvHiJ0JoM",
        "outputId": "7f29a9c7-a0c9-4931-bf46-8836c2fe7120"
      },
      "execution_count": 95,
      "outputs": [
        {
          "output_type": "execute_result",
          "data": {
            "text/plain": [
              "array([[15, 28, 32, 36],\n",
              "       [88, 92, 96, 69]])"
            ]
          },
          "metadata": {},
          "execution_count": 95
        }
      ]
    },
    {
      "cell_type": "code",
      "source": [
        "np.sum(var3,axis=2)"
      ],
      "metadata": {
        "colab": {
          "base_uri": "https://localhost:8080/",
          "height": 0
        },
        "id": "pxMC_6c93oW7",
        "outputId": "5bdd415a-2d33-4393-bab0-02897bb4321e"
      },
      "execution_count": 96,
      "outputs": [
        {
          "output_type": "execute_result",
          "data": {
            "text/plain": [
              "array([[  6,  22,  29,  54],\n",
              "       [ 70,  86, 102,  87]])"
            ]
          },
          "metadata": {},
          "execution_count": 96
        }
      ]
    },
    {
      "cell_type": "code",
      "source": [
        "np.sum(var3,axis = (0,2))"
      ],
      "metadata": {
        "colab": {
          "base_uri": "https://localhost:8080/",
          "height": 0
        },
        "id": "-wFFHYoa4rcF",
        "outputId": "78e0b317-e5fe-4251-e78a-6e343c931204"
      },
      "execution_count": 97,
      "outputs": [
        {
          "output_type": "execute_result",
          "data": {
            "text/plain": [
              "array([ 76, 108, 131, 141])"
            ]
          },
          "metadata": {},
          "execution_count": 97
        }
      ]
    },
    {
      "cell_type": "markdown",
      "source": [
        "Q1. f) Write code to do the following:\n",
        "1. Slice out the second row of var2 and print it.\n",
        "2. Slice out the last column of var2 using the -1 notation and print it.\n",
        "3. Slice out the top right 2 × 2 submatrix of var2 and print it."
      ],
      "metadata": {
        "id": "OCxzjxcUVIkl"
      }
    },
    {
      "cell_type": "code",
      "source": [
        "\n",
        "print(var2[1,:])\n",
        "print(var2[-1,:])\n",
        "print(var2[:2,-2:])"
      ],
      "metadata": {
        "colab": {
          "base_uri": "https://localhost:8080/",
          "height": 0
        },
        "id": "mHsjLjXE455o",
        "outputId": "964b3cc2-d321-486f-f8a4-46aa6b80b4a9"
      },
      "execution_count": 98,
      "outputs": [
        {
          "output_type": "stream",
          "name": "stdout",
          "text": [
            "[-1  9 10 11 12 13 14 15]\n",
            "[24 25 26 27 28 29 30  0]\n",
            "[[ 6  7]\n",
            " [14 15]]\n"
          ]
        }
      ]
    },
    {
      "cell_type": "markdown",
      "source": [
        "Q2. a) The most basic kind of broadcast is with a scalar, in which you can perform a binary operation (e.g., add, multiply, ...) on an array and a\n",
        "scalar, the effect is to perform that operation with the scalar for every element of the array. To try this out, create a vector 1, 2, . . . , 10 by adding\n",
        "1 to the result of the arange function."
      ],
      "metadata": {
        "id": "WflpizRYVPUG"
      }
    },
    {
      "cell_type": "code",
      "source": [
        "\n",
        "vector = np.arange(1,11)\n",
        "vector = vector+1\n",
        "print(vector)"
      ],
      "metadata": {
        "colab": {
          "base_uri": "https://localhost:8080/",
          "height": 0
        },
        "id": "w7ajKqKs5bwd",
        "outputId": "e2ebf79b-3729-440c-a302-f991dcbfb4f2"
      },
      "execution_count": 99,
      "outputs": [
        {
          "output_type": "stream",
          "name": "stdout",
          "text": [
            "[ 2  3  4  5  6  7  8  9 10 11]\n"
          ]
        }
      ]
    },
    {
      "cell_type": "markdown",
      "source": [
        "Q2. b) Now, create a 10 × 10 matrix A in which Ai j = i + j. You’ll be able to do this using the vector you just created, and adding it to a reshaped version of itself."
      ],
      "metadata": {
        "id": "lX4hnfY-VS1s"
      }
    },
    {
      "cell_type": "code",
      "source": [
        "\n",
        "matA = vector + vector.reshape(10, 1)\n",
        "print(matA)"
      ],
      "metadata": {
        "colab": {
          "base_uri": "https://localhost:8080/",
          "height": 0
        },
        "id": "KOqiHX1Q7FHl",
        "outputId": "7d044b7d-5783-423d-994f-b1f0d34d8755"
      },
      "execution_count": 100,
      "outputs": [
        {
          "output_type": "stream",
          "name": "stdout",
          "text": [
            "[[ 4  5  6  7  8  9 10 11 12 13]\n",
            " [ 5  6  7  8  9 10 11 12 13 14]\n",
            " [ 6  7  8  9 10 11 12 13 14 15]\n",
            " [ 7  8  9 10 11 12 13 14 15 16]\n",
            " [ 8  9 10 11 12 13 14 15 16 17]\n",
            " [ 9 10 11 12 13 14 15 16 17 18]\n",
            " [10 11 12 13 14 15 16 17 18 19]\n",
            " [11 12 13 14 15 16 17 18 19 20]\n",
            " [12 13 14 15 16 17 18 19 20 21]\n",
            " [13 14 15 16 17 18 19 20 21 22]]\n"
          ]
        }
      ]
    },
    {
      "cell_type": "markdown",
      "source": [
        "Q2.\n",
        "c) A very common use of broadcasting is to standardize data, i.e., to make it have zero mean and unit variance. First, create a fake “data set” with 50 examples,\n",
        "each with five dimensions.\n",
        "import numpy.random as npr\n",
        "data = np.exp(npr.randn ( 50 , 5 ) )\n",
        "\n",
        "d) You don’t worry too much about what this code is doing at this stage of the course, but for completeness: it imports the NumPy random number generation library, then generates a 50 × 5 matrix of standard normal random variates and exponentiates them. The effect of this is to have a pretend\n",
        "data set of 50 independent and identically-distributed vectors from a log-normaldistribution."
      ],
      "metadata": {
        "id": "A70foes9VWZi"
      }
    },
    {
      "cell_type": "code",
      "source": [
        "\n",
        "import numpy.random as npr\n",
        "data = np.exp(npr.randn ( 50 , 5 ) )\n",
        "print(data)\n"
      ],
      "metadata": {
        "colab": {
          "base_uri": "https://localhost:8080/",
          "height": 0
        },
        "id": "C4YfqCzc912P",
        "outputId": "44a799d6-3148-43c7-9357-426c3f49ea78"
      },
      "execution_count": 101,
      "outputs": [
        {
          "output_type": "stream",
          "name": "stdout",
          "text": [
            "[[ 0.59913508  9.21321444  1.78812328  3.16199579  0.45620398]\n",
            " [ 5.36055966  0.21333974  4.80170008  0.835528    0.49259519]\n",
            " [ 6.91176452  0.13969238 17.50772056  1.93172986  1.14452218]\n",
            " [ 2.73823489  0.61431037  1.61476057  1.64397341  1.46753512]\n",
            " [ 1.75471293  0.33891513  0.2686433   0.22696621  2.41204372]\n",
            " [ 0.30052502  0.81934997  0.51561367  0.76627007  3.19225539]\n",
            " [ 0.15544075  0.91849494  0.55201393  0.30985171  2.28405823]\n",
            " [ 1.24401758  0.8811888   0.63977636  0.43946877  1.20140442]\n",
            " [ 0.92403395  0.85553797  1.57214582  0.20865484  0.44768342]\n",
            " [ 0.30553024  2.20027213  0.84517594  0.4065287   0.43861636]\n",
            " [ 1.26877376  1.31084744  4.12461766  0.98485256  1.23474656]\n",
            " [ 7.62151976  0.87367515  0.37238476  0.62264084  2.07031395]\n",
            " [ 0.77148614  4.13044907  4.80174176  0.32359712  3.99283403]\n",
            " [ 6.22104191  0.20998526  1.40975025  0.67797996  4.97157593]\n",
            " [ 2.15250773  3.79964151  0.23718389 12.04420583  1.53112448]\n",
            " [ 0.62078959  1.42900622  0.94958126  1.15148456  8.86003793]\n",
            " [ 1.26983297  6.2941167   1.75458229  4.39002602  2.14595852]\n",
            " [ 0.50426764  1.25061771  0.69911321  0.41086894  1.00395552]\n",
            " [ 0.67534067  0.41805518  1.76411951  3.04689724  4.85392193]\n",
            " [ 0.73228754  0.10166546  0.49111057  6.24599819  0.94713706]\n",
            " [ 0.46846263  0.67591061  0.14852877  0.29854429  0.94990807]\n",
            " [ 0.6593152   0.97652038  0.67136356  1.54846637  0.58975124]\n",
            " [ 2.03102622  0.1887588   0.32569002  0.87697315  1.95276229]\n",
            " [ 0.33982749  6.96505295  0.91256246  1.30139592  1.57028166]\n",
            " [ 0.2775004   1.60917732  0.52726715  1.20663897  0.44298031]\n",
            " [ 0.23649149  3.51204797  5.48383191  0.25938513  0.59730223]\n",
            " [ 0.79858249  1.43465545  0.50778052  1.06215294  0.55562261]\n",
            " [ 1.4745441   0.10858859  1.09797117  0.37528739  0.53245727]\n",
            " [ 0.54301685  0.4578011   0.47125859  1.0980506  11.56301314]\n",
            " [ 0.18211338  0.45336348  1.14276022  3.34692156  1.02152512]\n",
            " [ 0.10660344  0.27961953  0.97453976  2.94636105  2.2898881 ]\n",
            " [ 0.10847771  0.55309352  0.12031052  1.36760687  0.61002244]\n",
            " [ 0.43198616  0.7083605   2.43867548  2.28349232  0.58449636]\n",
            " [ 0.70189635  0.8653056   2.58743007  0.89092266  0.58366228]\n",
            " [ 1.12121744  0.41514238  1.11733147  4.59611011  2.83164816]\n",
            " [ 2.68007445  0.40507543  0.35144289  1.04918852  0.08979787]\n",
            " [ 0.29558002  1.23775476  0.68367792  0.36867704  0.40082667]\n",
            " [ 2.19382457  1.80338342  1.50130539  1.91276614  0.93110963]\n",
            " [ 0.58051798  3.33972134  0.8025143   1.46296312  2.09442054]\n",
            " [ 2.59254358  1.57809021  0.8198434   1.11030344  6.43897808]\n",
            " [ 0.65446113  1.39950106  0.42484621  0.43138637  1.37694337]\n",
            " [ 0.88411823  1.0880501   7.13890529  1.59460422  1.35534746]\n",
            " [ 7.26130724  3.12116324  0.53246564  0.37473561  1.42898913]\n",
            " [ 0.89075901  2.23772682  1.33944417  0.32078818  0.5500903 ]\n",
            " [ 0.81745862  2.10352793  0.63727618  0.8888085   1.69182883]\n",
            " [ 1.9340587   0.40240039  1.91747589  0.91746152  1.81479593]\n",
            " [ 0.64248568  0.10907614  0.75243936  0.39291045  0.26797244]\n",
            " [ 0.29608081  0.28611423  0.43848774  0.81596242  1.29349942]\n",
            " [ 0.43991215  3.60167744  2.26124804  1.17710607  1.66262999]\n",
            " [ 0.42118488  2.22186481  0.70002089  2.22275734  0.74984367]]\n"
          ]
        }
      ]
    },
    {
      "cell_type": "markdown",
      "source": [
        "Q2. e) Now, compute the mean and standard deviation of each column. This should result in two vectors of length 5. You’ll need to think a little bit about how to use\n",
        "the axis argument to mean and std. Store these vectors into variables and print both of them."
      ],
      "metadata": {
        "id": "dDP84XHoVcI8"
      }
    },
    {
      "cell_type": "code",
      "source": [
        "\n",
        "mean = np.mean(data, axis=0) #For my understanding axis are accessed in order here j=column and then i=row\n",
        "std = np.std(data, axis=0)\n",
        "print(\"Mean of each column:\")\n",
        "print(mean)\n",
        "print(\"Standard deviation of each column:\")\n",
        "print(std)\n"
      ],
      "metadata": {
        "colab": {
          "base_uri": "https://localhost:8080/",
          "height": 0
        },
        "id": "pHOMSo6aG5Rp",
        "outputId": "83834a66-2cd0-4094-f756-30657c86a498"
      },
      "execution_count": 102,
      "outputs": [
        {
          "output_type": "stream",
          "name": "stdout",
          "text": [
            "Mean of each column:\n",
            "[1.48394461 1.60301802 1.71077107 1.56656494 1.87941837]\n",
            "Standard deviation of each column:\n",
            "[1.87669428 1.84661802 2.68623183 1.94659089 2.14324843]\n"
          ]
        }
      ]
    },
    {
      "cell_type": "markdown",
      "source": [
        "Q2. f) Now standardize the data matrix by 1) subtracting the mean off of each column,and 2) dividing each column by its standard deviation. Do this via broadcasting, and store the result in a matrix called normalized. To verify that you successfully did it, compute the mean and standard deviation of the columns of normalized and print them out."
      ],
      "metadata": {
        "id": "rbOa_BzCVgGm"
      }
    },
    {
      "cell_type": "code",
      "source": [
        "\n",
        "normalized = ((data - mean) / std)\n",
        "normean = np.mean(normalized, axis=0)\n",
        "norstd = np.std(normalized, axis=0)\n",
        "print(\"Normalized data mean:\")\n",
        "print(normean)\n",
        "print(\"Normalized data standard deviation:\")\n",
        "print(norstd)"
      ],
      "metadata": {
        "colab": {
          "base_uri": "https://localhost:8080/",
          "height": 0
        },
        "id": "Q0Wfh4mNHr9Y",
        "outputId": "5ef78f0a-aeb5-40f5-d969-1a6dd08a98bd"
      },
      "execution_count": 103,
      "outputs": [
        {
          "output_type": "stream",
          "name": "stdout",
          "text": [
            "Normalized data mean:\n",
            "[-2.64233080e-16 -2.04281037e-16 -8.32667268e-17  2.72004641e-16\n",
            " -2.30926389e-16]\n",
            "Normalized data standard deviation:\n",
            "[1. 1. 1. 1. 1.]\n"
          ]
        }
      ]
    },
    {
      "cell_type": "markdown",
      "source": [
        "Q3a) A Vandermonde matrix is a matrix generated from a vector in which each column of the matrix is an integer power starting from zero. So, if I have a column vector\n",
        "[x_1, x_2, ..., x_N]^T, then the associated (square) Vandermonde matrix would be Use what you learned about broadcasting in the previous problem to write a\n",
        "function that will produce a Vandermonde matrix for a vector [1, 2, ..., N]^T for any N. Do it without using a loop. Here's a stub to get you started:\n",
        "def vandermonde(N):\n",
        "    vec = np.arange(N) + 1\n",
        "    # write your code here.\n",
        "Use your function for N = 12, store it in variable named vander, and print the result.\n"
      ],
      "metadata": {
        "id": "73WRffz_VlM2"
      }
    },
    {
      "cell_type": "code",
      "source": [
        "\n",
        "import numpy.linalg as la\n",
        "def vandermonde(n):\n",
        "    vec = np.arange(n) + 1\n",
        "    return vec.reshape(n,1)**np.arange(n)\n",
        "\n",
        "N = 12\n",
        "vander = vandermonde(N)\n",
        "print(\"Vandermonde matrix:\")\n",
        "print(vander)"
      ],
      "metadata": {
        "colab": {
          "base_uri": "https://localhost:8080/",
          "height": 0
        },
        "id": "6mjg6BpOI3Rc",
        "outputId": "018e8d43-886f-4c26-8234-957ba9db9f61"
      },
      "execution_count": 104,
      "outputs": [
        {
          "output_type": "stream",
          "name": "stdout",
          "text": [
            "Vandermonde matrix:\n",
            "[[           1            1            1            1            1\n",
            "             1            1            1            1            1\n",
            "             1            1]\n",
            " [           1            2            4            8           16\n",
            "            32           64          128          256          512\n",
            "          1024         2048]\n",
            " [           1            3            9           27           81\n",
            "           243          729         2187         6561        19683\n",
            "         59049       177147]\n",
            " [           1            4           16           64          256\n",
            "          1024         4096        16384        65536       262144\n",
            "       1048576      4194304]\n",
            " [           1            5           25          125          625\n",
            "          3125        15625        78125       390625      1953125\n",
            "       9765625     48828125]\n",
            " [           1            6           36          216         1296\n",
            "          7776        46656       279936      1679616     10077696\n",
            "      60466176    362797056]\n",
            " [           1            7           49          343         2401\n",
            "         16807       117649       823543      5764801     40353607\n",
            "     282475249   1977326743]\n",
            " [           1            8           64          512         4096\n",
            "         32768       262144      2097152     16777216    134217728\n",
            "    1073741824   8589934592]\n",
            " [           1            9           81          729         6561\n",
            "         59049       531441      4782969     43046721    387420489\n",
            "    3486784401  31381059609]\n",
            " [           1           10          100         1000        10000\n",
            "        100000      1000000     10000000    100000000   1000000000\n",
            "   10000000000 100000000000]\n",
            " [           1           11          121         1331        14641\n",
            "        161051      1771561     19487171    214358881   2357947691\n",
            "   25937424601 285311670611]\n",
            " [           1           12          144         1728        20736\n",
            "        248832      2985984     35831808    429981696   5159780352\n",
            "   61917364224 743008370688]]\n"
          ]
        }
      ]
    },
    {
      "cell_type": "markdown",
      "source": [
        "Q3 b) Now, let’s make a pretend linear system problem with this matrix. Create a vector of all ones, of length 12 and call it x. Perform a matrix-vector multiplication of\n",
        "vander with the vector you just created and store that in a new vector and call it b.Print the vector b."
      ],
      "metadata": {
        "id": "Oh_Zf16uVpn9"
      }
    },
    {
      "cell_type": "code",
      "source": [
        "\n",
        "x = np.ones(12)\n",
        "print(x)\n",
        "b = np.matmul(vander, x)\n",
        "print(\"Resultant Vector b is:\")\n",
        "print(b)"
      ],
      "metadata": {
        "colab": {
          "base_uri": "https://localhost:8080/",
          "height": 0
        },
        "id": "8agOEC44MIf7",
        "outputId": "3797d377-75f2-4956-e833-38c683f6f538"
      },
      "execution_count": 105,
      "outputs": [
        {
          "output_type": "stream",
          "name": "stdout",
          "text": [
            "[1. 1. 1. 1. 1. 1. 1. 1. 1. 1. 1. 1.]\n",
            "Resultant Vector b is:\n",
            "[1.20000000e+01 4.09500000e+03 2.65720000e+05 5.59240500e+06\n",
            " 6.10351560e+07 4.35356467e+08 2.30688120e+09 9.81706810e+09\n",
            " 3.53036921e+10 1.11111111e+11 3.13842838e+11 8.10554586e+11]\n"
          ]
        }
      ]
    },
    {
      "cell_type": "markdown",
      "source": [
        "Q3. c) First, solve the linear system the naïve way, pretending like you don’t know x. Import numpy.linalg, invert V and multiply it by b. Print out your result. What\n",
        "should you get for your answer? If the answer is different than what you expected, write a sentence about that difference."
      ],
      "metadata": {
        "id": "TaQpWeWcVtlm"
      }
    },
    {
      "cell_type": "code",
      "source": [
        "\n",
        "inv_vander = la.inv(vander)\n",
        "naive = np.matmul(inv_vander, b)\n",
        "print(\"Solution using matrix inversion:\")\n",
        "print(naive)"
      ],
      "metadata": {
        "colab": {
          "base_uri": "https://localhost:8080/",
          "height": 0
        },
        "id": "taQiq6P6N2Kv",
        "outputId": "ec791491-1914-45b6-fff0-216c10f854cb"
      },
      "execution_count": 106,
      "outputs": [
        {
          "output_type": "stream",
          "name": "stdout",
          "text": [
            "Solution using matrix inversion:\n",
            "[-12.26953125   5.90625     15.421875    -6.03515625   2.05859375\n",
            "   0.92675781   1.00244141   1.00010681   0.99997711   1.00000131\n",
            "   0.99999996   1.        ]\n"
          ]
        }
      ]
    },
    {
      "cell_type": "markdown",
      "source": [
        "Expected result of all the elements according to linear algebra should have been close to one which is X original, but some of the values are way distinct from the expected aray of One's."
      ],
      "metadata": {
        "id": "axlUHSR5OvpR"
      }
    },
    {
      "cell_type": "markdown",
      "source": [
        "Q3. d) Now, solve the same linear system using solve. Print out the result. Does it seem\n",
        "more or less in line with what you’d expect?"
      ],
      "metadata": {
        "id": "Od-Oek-bVxDF"
      }
    },
    {
      "cell_type": "code",
      "source": [
        "\n",
        "solve = la.solve(vander, b)\n",
        "print(\"Solution using solve is:\")\n",
        "print(solve)"
      ],
      "metadata": {
        "colab": {
          "base_uri": "https://localhost:8080/",
          "height": 0
        },
        "id": "51EnBSKvPLVv",
        "outputId": "5c7129d1-6d2e-4ad5-f89a-d663c6263da9"
      },
      "execution_count": 107,
      "outputs": [
        {
          "output_type": "stream",
          "name": "stdout",
          "text": [
            "Solution using solve is:\n",
            "[0.98080503 1.05139768 0.94513807 1.03151945 0.98899166 1.00248816\n",
            " 0.99962407 1.0000384  0.99999737 1.00000012 1.         1.        ]\n"
          ]
        }
      ]
    },
    {
      "cell_type": "markdown",
      "source": [
        "This result contains array of value close to 1 that is it is clsoe to the original data of X of one's. Which indicates it has solved as we have expected it to do."
      ],
      "metadata": {
        "id": "0RvKZeysPoPZ"
      }
    },
    {
      "cell_type": "markdown",
      "source": [
        "[GitHub Link:](https://github.com/Apoorvamegh/Apoorvamegh_Chechar_24-27-04/blob/main/Assn2_Apoorvamegh_Chechar_24_27_04.ipynb)"
      ],
      "metadata": {
        "id": "edc6ZP5yTN2Y"
      }
    }
  ]
}